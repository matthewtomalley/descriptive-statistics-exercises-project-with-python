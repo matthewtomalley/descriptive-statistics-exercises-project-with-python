{
 "cells": [
  {
   "cell_type": "markdown",
   "id": "ac622319",
   "metadata": {},
   "source": [
    "# Descriptive statistics problems"
   ]
  },
  {
   "cell_type": "markdown",
   "id": "5e0ab0d5",
   "metadata": {},
   "source": [
    "### Exercise 1\n",
    "\n",
    "We will use NumPy to obtain information to describe statistically.\n",
    "\n",
    "- Generate an array of 100 elements following a normal distribution.\n",
    "- Generate an array of 100 elements following a chi-square distribution with 3 degrees of freedom.\n",
    "- Calculate the main metrics and statistical measures that best describe the two vectors."
   ]
  },
  {
   "cell_type": "code",
   "execution_count": 10,
   "id": "34720ab6",
   "metadata": {},
   "outputs": [],
   "source": [
    "import numpy as np\n",
    "import scipy.stats as stats\n",
    "\n",
    "arr1 = np.random.normal(0, 0.1, size=100)\n",
    "arr2 = np.random.chisquare(df=3, size=100)\n",
    "\n",
    "arr1_mean = np.mean(arr1)\n",
    "arr1_median = np.median(arr1)\n",
    "arr1_mode = stats.mode(arr1)\n",
    "arr1_std = np.std(arr1)\n",
    "arr1_var = np.var(arr1)\n",
    "arr1_range = np.max(arr1) - np.min(arr1)\n",
    "\n",
    "arr2_mean = np.mean(arr2)\n",
    "arr2_median = np.median(arr2)\n",
    "arr2_mode = stats.mode(arr2)\n",
    "arr2_std = np.std(arr2)\n",
    "arr2_var = np.var(arr2)\n",
    "arr2_range = np.max(arr2) - np.min(arr2)\n",
    "\n"
   ]
  },
  {
   "cell_type": "markdown",
   "id": "46c70c3d",
   "metadata": {},
   "source": [
    "### Exercise 2\n",
    "\n",
    "Write a Python program to calculate the standard deviation of the following data:\n",
    "\n",
    "```py\n",
    "data = [4, 2, 5, 8, 6]\n",
    "```"
   ]
  },
  {
   "cell_type": "code",
   "execution_count": 2,
   "id": "d590308e",
   "metadata": {},
   "outputs": [
    {
     "name": "stdout",
     "output_type": "stream",
     "text": [
      "2.0\n",
      "2.0\n"
     ]
    }
   ],
   "source": [
    "data = [4, 2, 5, 8, 6]\n",
    "arr = np.array(data)\n",
    "\n",
    "def stand_dev(array):\n",
    "\n",
    "    sum_squares = 0\n",
    "    mean = np.mean(array)\n",
    "    \n",
    "    for i in array:\n",
    "        sum_squares += (i - mean)**2\n",
    "\n",
    "    return np.sqrt(sum_squares / len(array))\n",
    "\n",
    "print(stand_dev(arr))\n",
    "\n",
    "print(np.std(arr))"
   ]
  },
  {
   "cell_type": "code",
   "execution_count": 3,
   "id": "980249a7",
   "metadata": {},
   "outputs": [
    {
     "data": {
      "text/html": [
       "<div>\n",
       "<style scoped>\n",
       "    .dataframe tbody tr th:only-of-type {\n",
       "        vertical-align: middle;\n",
       "    }\n",
       "\n",
       "    .dataframe tbody tr th {\n",
       "        vertical-align: top;\n",
       "    }\n",
       "\n",
       "    .dataframe thead th {\n",
       "        text-align: right;\n",
       "    }\n",
       "</style>\n",
       "<table border=\"1\" class=\"dataframe\">\n",
       "  <thead>\n",
       "    <tr style=\"text-align: right;\">\n",
       "      <th></th>\n",
       "      <th>sample</th>\n",
       "      <th>mean</th>\n",
       "      <th>deviation_from_mean</th>\n",
       "      <th>squared_deviation</th>\n",
       "      <th>variance</th>\n",
       "      <th>stand_dev</th>\n",
       "    </tr>\n",
       "  </thead>\n",
       "  <tbody>\n",
       "    <tr>\n",
       "      <th>0</th>\n",
       "      <td>4</td>\n",
       "      <td>5.0</td>\n",
       "      <td>-1.0</td>\n",
       "      <td>1.0</td>\n",
       "      <td>4.0</td>\n",
       "      <td>2.0</td>\n",
       "    </tr>\n",
       "    <tr>\n",
       "      <th>1</th>\n",
       "      <td>2</td>\n",
       "      <td>5.0</td>\n",
       "      <td>-3.0</td>\n",
       "      <td>9.0</td>\n",
       "      <td>4.0</td>\n",
       "      <td>2.0</td>\n",
       "    </tr>\n",
       "    <tr>\n",
       "      <th>2</th>\n",
       "      <td>5</td>\n",
       "      <td>5.0</td>\n",
       "      <td>0.0</td>\n",
       "      <td>0.0</td>\n",
       "      <td>4.0</td>\n",
       "      <td>2.0</td>\n",
       "    </tr>\n",
       "    <tr>\n",
       "      <th>3</th>\n",
       "      <td>8</td>\n",
       "      <td>5.0</td>\n",
       "      <td>3.0</td>\n",
       "      <td>9.0</td>\n",
       "      <td>4.0</td>\n",
       "      <td>2.0</td>\n",
       "    </tr>\n",
       "    <tr>\n",
       "      <th>4</th>\n",
       "      <td>6</td>\n",
       "      <td>5.0</td>\n",
       "      <td>1.0</td>\n",
       "      <td>1.0</td>\n",
       "      <td>4.0</td>\n",
       "      <td>2.0</td>\n",
       "    </tr>\n",
       "  </tbody>\n",
       "</table>\n",
       "</div>"
      ],
      "text/plain": [
       "   sample  mean  deviation_from_mean  squared_deviation  variance  stand_dev\n",
       "0       4   5.0                 -1.0                1.0       4.0        2.0\n",
       "1       2   5.0                 -3.0                9.0       4.0        2.0\n",
       "2       5   5.0                  0.0                0.0       4.0        2.0\n",
       "3       8   5.0                  3.0                9.0       4.0        2.0\n",
       "4       6   5.0                  1.0                1.0       4.0        2.0"
      ]
     },
     "execution_count": 3,
     "metadata": {},
     "output_type": "execute_result"
    }
   ],
   "source": [
    "import pandas as pd\n",
    "\n",
    "data = pd.DataFrame([4, 2, 5, 8, 6], columns=['sample'])\n",
    "\n",
    "data['mean'] = data['sample'].mean()\n",
    "\n",
    "data['deviation_from_mean'] = data['sample'] - data['mean']\n",
    "\n",
    "data['squared_deviation'] = data['deviation_from_mean']**2\n",
    "\n",
    "data['variance'] = data['squared_deviation'].mean()\n",
    "\n",
    "data['stand_dev'] = np.sqrt(data['variance'])\n",
    "\n",
    "data"
   ]
  }
 ],
 "metadata": {
  "kernelspec": {
   "display_name": "Python 3",
   "language": "python",
   "name": "python3"
  },
  "language_info": {
   "codemirror_mode": {
    "name": "ipython",
    "version": 3
   },
   "file_extension": ".py",
   "mimetype": "text/x-python",
   "name": "python",
   "nbconvert_exporter": "python",
   "pygments_lexer": "ipython3",
   "version": "3.11.4"
  }
 },
 "nbformat": 4,
 "nbformat_minor": 5
}
